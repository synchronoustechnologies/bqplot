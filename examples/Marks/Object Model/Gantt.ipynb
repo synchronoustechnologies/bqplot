{
 "cells": [
  {
   "cell_type": "code",
   "execution_count": 4,
   "metadata": {},
   "outputs": [
    {
     "data": {
      "application/vnd.jupyter.widget-view+json": {
       "model_id": "b91484bdef5f4002a16ab0db10087c55",
       "version_major": 2,
       "version_minor": 0
      },
      "text/plain": [
       "Figure(axes=[Axis(scale=LinearScale()), Axis(orientation='vertical', scale=LinearScale(), tick_format='0.2f')]…"
      ]
     },
     "metadata": {},
     "output_type": "display_data"
    }
   ],
   "source": [
    "from bqplot import Figure, LinearScale, Axis, Lines\n",
    "import random\n",
    "import numpy as np\n",
    "random.seed(42)\n",
    "L=10\n",
    "x_data = [ [x_val , x_val+random.random()] for  x_val in range(L) ]\n",
    "y_data = [[y_val,y_val] for  y_val in range(L)]\n",
    "x_sc = LinearScale()\n",
    "y_sc = LinearScale()\n",
    "ax_x = Axis(scale=x_sc)\n",
    "ax_y = Axis(scale=y_sc, orientation='vertical', tick_format='0.2f')\n",
    "# my_line_mark = Lines(x=x_data, y=y_data, stroke_width=12, scales= {'x': x_sc, 'y': y_sc}, colors=['dodgerblue'])\n",
    "my_line_mark = Lines(\n",
    "    x=x_data,\n",
    "    y=y_data,\n",
    "    stroke_width=12,\n",
    "    scales= {'x': x_sc, 'y': y_sc},\n",
    "    colors=['dodgerblue'],\n",
    "    enable_move=True\n",
    ")\n",
    "fig = Figure(marks=[my_line_mark], axes=[ax_x, ax_y])\n",
    "fig"
   ]
  },
  {
   "cell_type": "code",
   "execution_count": null,
   "metadata": {},
   "outputs": [],
   "source": []
  }
 ],
 "metadata": {
  "kernelspec": {
   "display_name": "Python 3",
   "language": "python",
   "name": "python3"
  },
  "language_info": {
   "codemirror_mode": {
    "name": "ipython",
    "version": 3
   },
   "file_extension": ".py",
   "mimetype": "text/x-python",
   "name": "python",
   "nbconvert_exporter": "python",
   "pygments_lexer": "ipython3",
   "version": "3.7.6"
  }
 },
 "nbformat": 4,
 "nbformat_minor": 4
}
