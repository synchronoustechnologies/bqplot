{
 "cells": [
  {
   "cell_type": "code",
   "execution_count": null,
   "metadata": {},
   "outputs": [
    {
     "ename": "Error",
     "evalue": "Jupyter cannot be started. Error attempting to locate jupyter: ",
     "output_type": "error",
     "traceback": [
      "Error: Jupyter cannot be started. Error attempting to locate jupyter:",
      "at A.startServer (/Users/tdf/.vscode/extensions/ms-python.python-2020.2.64397/out/client/extension.js:1:786120)",
      "at async A.ensureServerAndNotebookImpl (/Users/tdf/.vscode/extensions/ms-python.python-2020.2.64397/out/client/extension.js:1:785575)",
      "at async A.ensureServerAndNotebook (/Users/tdf/.vscode/extensions/ms-python.python-2020.2.64397/out/client/extension.js:1:785376)",
      "at async A.submitCode (/Users/tdf/.vscode/extensions/ms-python.python-2020.2.64397/out/client/extension.js:1:782328)",
      "at async A.reexecuteCell (/Users/tdf/.vscode/extensions/ms-python.python-2020.2.64397/out/client/extension.js:75:879318)"
     ]
    }
   ],
   "source": [
    "from bqplot import Figure, LinearScale, Axis, Gantt\n",
    "import random\n",
    "import numpy as np\n",
    "random.seed(42)\n",
    "L=10\n",
    "x_data = [ [x_val , x_val+random.random()] for  x_val in range(L) ]\n",
    "y_data = [[y_val,y_val] for  y_val in range(L)]\n",
    "x_sc = LinearScale()\n",
    "y_sc = LinearScale()\n",
    "ax_x = Axis(scale=x_sc)\n",
    "ax_y = Axis(scale=y_sc, orientation='vertical', tick_format='0.2f')\n",
    "# my_line_mark = Lines(x=x_data, y=y_data, stroke_width=12, scales= {'x': x_sc, 'y': y_sc}, colors=['dodgerblue'])\n",
    "my_line_mark = Gantt(\n",
    "    x=x_data,\n",
    "    y=y_data,\n",
    "    stroke_width=12,\n",
    "    scales= {'x': x_sc, 'y': y_sc},\n",
    "    colors=['dodgerblue'],\n",
    "    enable_move=True\n",
    ")\n",
    "fig = Figure(marks=[my_line_mark], axes=[ax_x, ax_y])\n",
    "fig"
   ]
  }
 ],
 "metadata": {
  "kernelspec": {
   "display_name": "Python 3",
   "language": "python",
   "name": "python3"
  },
  "language_info": {
   "codemirror_mode": {
    "name": "ipython",
    "version": 3
   },
   "file_extension": ".py",
   "mimetype": "text/x-python",
   "name": "python",
   "nbconvert_exporter": "python",
   "pygments_lexer": "ipython3",
   "version": "3.7.6"
  }
 },
 "nbformat": 4,
 "nbformat_minor": 4
}